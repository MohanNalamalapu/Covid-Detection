{
 "cells": [
  {
   "cell_type": "code",
   "execution_count": 1,
   "metadata": {
    "colab": {},
    "colab_type": "code",
    "executionInfo": {
     "elapsed": 3280,
     "status": "ok",
     "timestamp": 1595575977319,
     "user": {
      "displayName": "D. Narayana",
      "photoUrl": "",
      "userId": "17572554762277395202"
     },
     "user_tz": -330
    },
    "id": "h5OQ9yl_um_T"
   },
   "outputs": [],
   "source": [
    "import tensorflow as tf\n",
    "import numpy as np\n",
    "from tensorflow.keras.layers import Dense, Flatten, Input\n",
    "from tensorflow.keras.preprocessing.image import ImageDataGenerator\n",
    "from sklearn.metrics import confusion_matrix\n",
    "from tensorflow.keras import layers\n",
    "from os import listdir"
   ]
  },
  {
   "cell_type": "code",
   "execution_count": 2,
   "metadata": {
    "colab": {
     "base_uri": "https://localhost:8080/",
     "height": 34
    },
    "colab_type": "code",
    "executionInfo": {
     "elapsed": 1062,
     "status": "ok",
     "timestamp": 1595576437080,
     "user": {
      "displayName": "D. Narayana",
      "photoUrl": "",
      "userId": "17572554762277395202"
     },
     "user_tz": -330
    },
    "id": "M1nJf43MwQKl",
    "outputId": "e89175b7-3ed8-447c-f4a7-3ac3c63a7abf"
   },
   "outputs": [
    {
     "data": {
      "text/plain": [
       "['bacterial_viral', 'COVID']"
      ]
     },
     "execution_count": 2,
     "metadata": {},
     "output_type": "execute_result"
    }
   ],
   "source": [
    "data_list_model2c = listdir(r\"C:\\Users\\gowri\\OneDrive\\Desktop\\covidDetection\\train\")\n",
    "data_list_model2c\n"
   ]
  },
  {
   "cell_type": "code",
   "execution_count": 3,
   "metadata": {
    "colab": {},
    "colab_type": "code",
    "executionInfo": {
     "elapsed": 1650,
     "status": "ok",
     "timestamp": 1595576495870,
     "user": {
      "displayName": "D. Narayana",
      "photoUrl": "",
      "userId": "17572554762277395202"
     },
     "user_tz": -330
    },
    "id": "sV3BEFSLvWnI"
   },
   "outputs": [],
   "source": [
    "DATASET_PATH_model2c  = r\"C:\\Users\\gowri\\OneDrive\\Desktop\\covidDetection\\train\"\n",
    "train_dir_model2c =  r\"C:\\Users\\gowri\\OneDrive\\Desktop\\covidDetection\\train\"\n",
    "test_dir_model2c =  r\"C:\\Users\\gowri\\OneDrive\\Desktop\\covidDetection\\test\""
   ]
  },
  {
   "cell_type": "code",
   "execution_count": 4,
   "metadata": {
    "colab": {},
    "colab_type": "code",
    "executionInfo": {
     "elapsed": 1477,
     "status": "ok",
     "timestamp": 1595576510714,
     "user": {
      "displayName": "D. Narayana",
      "photoUrl": "",
      "userId": "17572554762277395202"
     },
     "user_tz": -330
    },
    "id": "cY0ue_aBvWri"
   },
   "outputs": [],
   "source": [
    "IMAGE_SIZE    = (150, 150)\n",
    "NUM_CLASSES   = len(data_list_model2c)\n",
    "BATCH_SIZE    = 10  # try reducing batch size or freeze more layers if your GPU runs out of memory\n",
    "NUM_EPOCHS    = 100\n",
    "LEARNING_RATE = 0.0001"
   ]
  },
  {
   "cell_type": "code",
   "execution_count": 5,
   "metadata": {
    "colab": {
     "base_uri": "https://localhost:8080/",
     "height": 72
    },
    "colab_type": "code",
    "executionInfo": {
     "elapsed": 1782,
     "status": "ok",
     "timestamp": 1595576549603,
     "user": {
      "displayName": "D. Narayana",
      "photoUrl": "",
      "userId": "17572554762277395202"
     },
     "user_tz": -330
    },
    "id": "xd8puxfgvWtf",
    "outputId": "ca3b32df-1b15-4f2a-d8ef-c2d7d8f0d077"
   },
   "outputs": [
    {
     "name": "stderr",
     "output_type": "stream",
     "text": [
      "c:\\Users\\gowri\\anaconda3\\Lib\\site-packages\\keras\\src\\legacy\\preprocessing\\image.py:1054: UserWarning: This ImageDataGenerator specifies `zca_whitening` which overrides setting of`featurewise_std_normalization`.\n",
      "  warnings.warn(\n"
     ]
    }
   ],
   "source": [
    "#Train datagen here is a preprocessor\n",
    "train_datagen = ImageDataGenerator(rescale=1./255,\n",
    "                                   rotation_range=50,\n",
    "                                   featurewise_center = True,\n",
    "                                   featurewise_std_normalization = True,\n",
    "                                   width_shift_range=0.2,\n",
    "                                   height_shift_range=0.2,\n",
    "                                   shear_range=0.25,\n",
    "                                   zoom_range=0.1,\n",
    "                                   zca_whitening = True,\n",
    "                                   channel_shift_range = 20,\n",
    "                                   horizontal_flip = True ,\n",
    "                                   vertical_flip = True ,\n",
    "                                   fill_mode='constant' )"
   ]
  },
  {
   "cell_type": "code",
   "execution_count": 6,
   "metadata": {
    "colab": {
     "base_uri": "https://localhost:8080/",
     "height": 34
    },
    "colab_type": "code",
    "executionInfo": {
     "elapsed": 1248,
     "status": "ok",
     "timestamp": 1595576553415,
     "user": {
      "displayName": "D. Narayana",
      "photoUrl": "",
      "userId": "17572554762277395202"
     },
     "user_tz": -330
    },
    "id": "6mefzko8vW2T",
    "outputId": "6efd0441-c54c-42e7-a003-8ef660ee0c49"
   },
   "outputs": [
    {
     "name": "stdout",
     "output_type": "stream",
     "text": [
      "Found 175 images belonging to 2 classes.\n"
     ]
    }
   ],
   "source": [
    "train_batches = train_datagen.flow_from_directory(DATASET_PATH_model2c,\n",
    "                                                  target_size=IMAGE_SIZE,\n",
    "                                                  shuffle=True,\n",
    "                                                  batch_size=BATCH_SIZE,\n",
    "                                                  subset = \"training\",\n",
    "                                                  seed=42,\n",
    "                                                  class_mode=\"categorical\",)"
   ]
  },
  {
   "cell_type": "code",
   "execution_count": 7,
   "metadata": {
    "colab": {
     "base_uri": "https://localhost:8080/",
     "height": 34
    },
    "colab_type": "code",
    "executionInfo": {
     "elapsed": 1186,
     "status": "ok",
     "timestamp": 1595576570236,
     "user": {
      "displayName": "D. Narayana",
      "photoUrl": "",
      "userId": "17572554762277395202"
     },
     "user_tz": -330
    },
    "id": "bfZI37B0xiHV",
    "outputId": "d0baa88a-7774-4d84-deb1-6a22a90a1aa1"
   },
   "outputs": [
    {
     "name": "stdout",
     "output_type": "stream",
     "text": [
      "Found 0 images belonging to 2 classes.\n"
     ]
    }
   ],
   "source": [
    "valid_batches = train_datagen.flow_from_directory(DATASET_PATH_model2c,\n",
    "                                                  target_size=IMAGE_SIZE,\n",
    "                                                  shuffle=True,\n",
    "                                                  batch_size=BATCH_SIZE,\n",
    "                                                  subset = \"validation\",\n",
    "                                                  seed=42,\n",
    "                                                  class_mode=\"categorical\",)"
   ]
  },
  {
   "cell_type": "code",
   "execution_count": 8,
   "metadata": {
    "colab": {},
    "colab_type": "code",
    "executionInfo": {
     "elapsed": 1822,
     "status": "ok",
     "timestamp": 1595576608454,
     "user": {
      "displayName": "D. Narayana",
      "photoUrl": "",
      "userId": "17572554762277395202"
     },
     "user_tz": -330
    },
    "id": "X_QRSCrJxmMd"
   },
   "outputs": [],
   "source": [
    "vgg16_model = tf.keras.applications.vgg16.VGG16(weights='imagenet', include_top=False, input_tensor=Input(shape=(150,150,3)))"
   ]
  },
  {
   "cell_type": "code",
   "execution_count": 9,
   "metadata": {
    "colab": {},
    "colab_type": "code",
    "executionInfo": {
     "elapsed": 1899,
     "status": "ok",
     "timestamp": 1595576624831,
     "user": {
      "displayName": "D. Narayana",
      "photoUrl": "",
      "userId": "17572554762277395202"
     },
     "user_tz": -330
    },
    "id": "gygTn7brxmRg"
   },
   "outputs": [],
   "source": [
    "for layer in vgg16_model.layers[:-4]:\n",
    "    layer.trainable = False\n",
    "model2c = tf.keras.Sequential()\n",
    "model2c.add(vgg16_model)\n",
    "model2c.add(Flatten())\n",
    "model2c.add(Dense(64, activation='relu'))\n",
    "model2c.add(layers.Dense(2, activation='softmax'))"
   ]
  },
  {
   "cell_type": "code",
   "execution_count": 11,
   "metadata": {
    "colab": {},
    "colab_type": "code",
    "executionInfo": {
     "elapsed": 1395,
     "status": "ok",
     "timestamp": 1595576638526,
     "user": {
      "displayName": "D. Narayana",
      "photoUrl": "",
      "userId": "17572554762277395202"
     },
     "user_tz": -330
    },
    "id": "tlawRR9KxmTd"
   },
   "outputs": [],
   "source": [
    "model2c.compile(loss='categorical_crossentropy', optimizer=tf.keras.optimizers.Adam(learning_rate=LEARNING_RATE), metrics=['accuracy'])"
   ]
  },
  {
   "cell_type": "code",
   "execution_count": 12,
   "metadata": {
    "colab": {},
    "colab_type": "code",
    "executionInfo": {
     "elapsed": 1348,
     "status": "ok",
     "timestamp": 1595576660012,
     "user": {
      "displayName": "D. Narayana",
      "photoUrl": "",
      "userId": "17572554762277395202"
     },
     "user_tz": -330
    },
    "id": "0eN26bkexmYC"
   },
   "outputs": [],
   "source": [
    "STEP_SIZE_TRAIN=train_batches.n//train_batches.batch_size\n",
    "STEP_SIZE_VALID=valid_batches.n//valid_batches.batch_size"
   ]
  },
  {
   "cell_type": "code",
   "execution_count": 14,
   "metadata": {
    "colab": {
     "base_uri": "https://localhost:8080/",
     "height": 352
    },
    "colab_type": "code",
    "executionInfo": {
     "elapsed": 246375,
     "status": "ok",
     "timestamp": 1595576916206,
     "user": {
      "displayName": "D. Narayana",
      "photoUrl": "",
      "userId": "17572554762277395202"
     },
     "user_tz": -330
    },
    "id": "T-PV5Z_txmZx",
    "outputId": "86ad3c39-6789-4bdc-a593-ffa8828b1f87"
   },
   "outputs": [
    {
     "name": "stderr",
     "output_type": "stream",
     "text": [
      "c:\\Users\\gowri\\anaconda3\\Lib\\site-packages\\keras\\src\\legacy\\preprocessing\\image.py:1263: UserWarning: This ImageDataGenerator specifies `featurewise_center`, but it hasn't been fit on any training data. Fit it first by calling `.fit(numpy_data)`.\n",
      "  warnings.warn(\n",
      "c:\\Users\\gowri\\anaconda3\\Lib\\site-packages\\keras\\src\\legacy\\preprocessing\\image.py:1286: UserWarning: This ImageDataGenerator specifies `zca_whitening`, but it hasn't been fit on any training data. Fit it first by calling `.fit(numpy_data)`.\n",
      "  warnings.warn(\n"
     ]
    },
    {
     "name": "stdout",
     "output_type": "stream",
     "text": [
      "Epoch 1/5\n"
     ]
    },
    {
     "name": "stderr",
     "output_type": "stream",
     "text": [
      "c:\\Users\\gowri\\anaconda3\\Lib\\site-packages\\keras\\src\\trainers\\data_adapters\\py_dataset_adapter.py:122: UserWarning: Your `PyDataset` class should call `super().__init__(**kwargs)` in its constructor. `**kwargs` can include `workers`, `use_multiprocessing`, `max_queue_size`. Do not pass these arguments to `fit()`, as they will be ignored.\n",
      "  self._warn_if_super_not_called()\n"
     ]
    },
    {
     "name": "stdout",
     "output_type": "stream",
     "text": [
      "\u001b[1m17/17\u001b[0m \u001b[32m━━━━━━━━━━━━━━━━━━━━\u001b[0m\u001b[37m\u001b[0m \u001b[1m21s\u001b[0m 821ms/step - accuracy: 0.6274 - loss: 0.6872\n",
      "Epoch 2/5\n",
      "\u001b[1m17/17\u001b[0m \u001b[32m━━━━━━━━━━━━━━━━━━━━\u001b[0m\u001b[37m\u001b[0m \u001b[1m1s\u001b[0m 2ms/step - accuracy: 0.9000 - loss: 0.4374   \n",
      "Epoch 3/5\n"
     ]
    },
    {
     "name": "stderr",
     "output_type": "stream",
     "text": [
      "c:\\Users\\gowri\\anaconda3\\Lib\\contextlib.py:158: UserWarning: Your input ran out of data; interrupting training. Make sure that your dataset or generator can generate at least `steps_per_epoch * epochs` batches. You may need to use the `.repeat()` function when building your dataset.\n",
      "  self.gen.throw(value)\n"
     ]
    },
    {
     "name": "stdout",
     "output_type": "stream",
     "text": [
      "\u001b[1m17/17\u001b[0m \u001b[32m━━━━━━━━━━━━━━━━━━━━\u001b[0m\u001b[37m\u001b[0m \u001b[1m24s\u001b[0m 1s/step - accuracy: 0.8205 - loss: 0.4136\n",
      "Epoch 4/5\n",
      "\u001b[1m17/17\u001b[0m \u001b[32m━━━━━━━━━━━━━━━━━━━━\u001b[0m\u001b[37m\u001b[0m \u001b[1m1s\u001b[0m 2ms/step - accuracy: 0.7000 - loss: 0.7506\n",
      "Epoch 5/5\n",
      "\u001b[1m17/17\u001b[0m \u001b[32m━━━━━━━━━━━━━━━━━━━━\u001b[0m\u001b[37m\u001b[0m \u001b[1m22s\u001b[0m 1s/step - accuracy: 0.8318 - loss: 0.3358\n"
     ]
    },
    {
     "data": {
      "text/plain": [
       "<keras.src.callbacks.history.History at 0x1b9c14efc50>"
      ]
     },
     "execution_count": 14,
     "metadata": {},
     "output_type": "execute_result"
    }
   ],
   "source": [
    "model2c.fit(train_batches, steps_per_epoch =STEP_SIZE_TRAIN, epochs= 5, verbose=True)"
   ]
  },
  {
   "cell_type": "code",
   "execution_count": 18,
   "metadata": {
    "colab": {
     "base_uri": "https://localhost:8080/",
     "height": 209
    },
    "colab_type": "code",
    "executionInfo": {
     "elapsed": 87704,
     "status": "ok",
     "timestamp": 1595577108600,
     "user": {
      "displayName": "D. Narayana",
      "photoUrl": "",
      "userId": "17572554762277395202"
     },
     "user_tz": -330
    },
    "id": "L69MN9D-xmet",
    "outputId": "341f8e12-1130-4de6-a82d-02c99f9133d2"
   },
   "outputs": [
    {
     "name": "stdout",
     "output_type": "stream",
     "text": [
      "Found 175 images belonging to 2 classes.\n"
     ]
    },
    {
     "name": "stdout",
     "output_type": "stream",
     "text": [
      "\u001b[1m  2/175\u001b[0m \u001b[37m━━━━━━━━━━━━━━━━━━━━\u001b[0m \u001b[1m13s\u001b[0m 81ms/step - accuracy: 1.0000 - loss: 0.0381  "
     ]
    },
    {
     "name": "stderr",
     "output_type": "stream",
     "text": [
      "c:\\Users\\gowri\\anaconda3\\Lib\\site-packages\\keras\\src\\trainers\\data_adapters\\py_dataset_adapter.py:122: UserWarning: Your `PyDataset` class should call `super().__init__(**kwargs)` in its constructor. `**kwargs` can include `workers`, `use_multiprocessing`, `max_queue_size`. Do not pass these arguments to `fit()`, as they will be ignored.\n",
      "  self._warn_if_super_not_called()\n"
     ]
    },
    {
     "name": "stdout",
     "output_type": "stream",
     "text": [
      "\u001b[1m175/175\u001b[0m \u001b[32m━━━━━━━━━━━━━━━━━━━━\u001b[0m\u001b[37m\u001b[0m \u001b[1m32s\u001b[0m 179ms/step - accuracy: 0.9584 - loss: 0.1219\n",
      "Train loss: 0.11304084956645966 Train accuracy: 0.9599999785423279\n",
      "\u001b[1m175/175\u001b[0m \u001b[32m━━━━━━━━━━━━━━━━━━━━\u001b[0m\u001b[37m\u001b[0m \u001b[1m28s\u001b[0m 158ms/step\n",
      "[[72  3]\n",
      " [ 4 96]]\n"
     ]
    }
   ],
   "source": [
    "Train_DataGeneration = ImageDataGenerator(rescale=1.0 / 255)\n",
    "TrainBatch = Train_DataGeneration.flow_from_directory(\n",
    "    train_dir_model2c, \n",
    "    target_size=IMAGE_SIZE, \n",
    "    batch_size=1, \n",
    "    shuffle=False, \n",
    "    seed=42, \n",
    "    class_mode=\"categorical\"\n",
    ")\n",
    "\n",
    "TrainBatch.reset()\n",
    "\n",
    "# Evaluating the model (Fixed)\n",
    "trainResult = model2c.evaluate(TrainBatch, steps=len(TrainBatch), verbose=1)\n",
    "print('Train loss:', trainResult[0], 'Train accuracy:', trainResult[1])\n",
    "\n",
    "# Making predictions\n",
    "prediction = model2c.predict(TrainBatch, steps=len(TrainBatch))\n",
    "Predicted_class = np.argmax(prediction, axis=1)\n",
    "\n",
    "# Generating confusion matrix\n",
    "print(confusion_matrix(TrainBatch.classes, Predicted_class))\n"
   ]
  },
  {
   "cell_type": "code",
   "execution_count": 22,
   "metadata": {
    "colab": {
     "base_uri": "https://localhost:8080/",
     "height": 104
    },
    "colab_type": "code",
    "executionInfo": {
     "elapsed": 30148,
     "status": "ok",
     "timestamp": 1595577238176,
     "user": {
      "displayName": "D. Narayana",
      "photoUrl": "",
      "userId": "17572554762277395202"
     },
     "user_tz": -330
    },
    "id": "W2nU9iAzxmLM",
    "outputId": "bdb59010-85c6-4e99-b711-c77d42e26535"
   },
   "outputs": [
    {
     "name": "stdout",
     "output_type": "stream",
     "text": [
      "Found 50 images belonging to 2 classes.\n",
      "\u001b[1m 1/50\u001b[0m \u001b[37m━━━━━━━━━━━━━━━━━━━━\u001b[0m \u001b[1m9s\u001b[0m 185ms/step - accuracy: 1.0000 - loss: 0.1708"
     ]
    },
    {
     "name": "stderr",
     "output_type": "stream",
     "text": [
      "c:\\Users\\gowri\\anaconda3\\Lib\\site-packages\\keras\\src\\trainers\\data_adapters\\py_dataset_adapter.py:122: UserWarning: Your `PyDataset` class should call `super().__init__(**kwargs)` in its constructor. `**kwargs` can include `workers`, `use_multiprocessing`, `max_queue_size`. Do not pass these arguments to `fit()`, as they will be ignored.\n",
      "  self._warn_if_super_not_called()\n"
     ]
    },
    {
     "name": "stdout",
     "output_type": "stream",
     "text": [
      "\u001b[1m50/50\u001b[0m \u001b[32m━━━━━━━━━━━━━━━━━━━━\u001b[0m\u001b[37m\u001b[0m \u001b[1m4s\u001b[0m 83ms/step - accuracy: 0.9315 - loss: 0.1661\n",
      "Test loss: 0.10606435686349869 Test accuracy: 0.9599999785423279\n",
      "\u001b[1m50/50\u001b[0m \u001b[32m━━━━━━━━━━━━━━━━━━━━\u001b[0m\u001b[37m\u001b[0m \u001b[1m4s\u001b[0m 89ms/step\n",
      "[[23  2]\n",
      " [ 0 25]]\n"
     ]
    }
   ],
   "source": [
    "# Test accuracy\n",
    "Test_DataGeneration = ImageDataGenerator(rescale=1.0 / 255)\n",
    "TestingBatch = Test_DataGeneration.flow_from_directory(\n",
    "    test_dir_model2c, \n",
    "    target_size=IMAGE_SIZE, \n",
    "    batch_size=1, \n",
    "    shuffle=False, \n",
    "    seed=42, \n",
    "    class_mode=\"categorical\"\n",
    ")\n",
    "\n",
    "TestingBatch.reset()\n",
    "\n",
    "# Evaluating the model (Fixed)\n",
    "testResult = model2c.evaluate(TestingBatch, steps=len(TestingBatch), verbose=1)\n",
    "print('Test loss:', testResult[0], 'Test accuracy:', testResult[1])\n",
    "\n",
    "# Making predictions (Fixed)\n",
    "prediction = model2c.predict(TestingBatch, steps=len(TestingBatch))\n",
    "Predicted_class = np.argmax(prediction, axis=1)\n",
    "\n",
    "# Generating confusion matrix\n",
    "print(confusion_matrix(TestingBatch.classes, Predicted_class))\n"
   ]
  },
  {
   "cell_type": "code",
   "execution_count": null,
   "metadata": {},
   "outputs": [],
   "source": []
  }
 ],
 "metadata": {
  "colab": {
   "authorship_tag": "ABX9TyP0J1/Pr20jQvBSnPZ0xi/M",
   "collapsed_sections": [],
   "name": "covidDetection.ipynb",
   "provenance": []
  },
  "kernelspec": {
   "display_name": "base",
   "language": "python",
   "name": "python3"
  },
  "language_info": {
   "codemirror_mode": {
    "name": "ipython",
    "version": 3
   },
   "file_extension": ".py",
   "mimetype": "text/x-python",
   "name": "python",
   "nbconvert_exporter": "python",
   "pygments_lexer": "ipython3",
   "version": "3.12.4"
  }
 },
 "nbformat": 4,
 "nbformat_minor": 0
}
